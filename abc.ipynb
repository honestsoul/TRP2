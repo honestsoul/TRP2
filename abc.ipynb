{
 "metadata": {
  "name": "",
  "signature": "sha256:c399c5a300f7749c184771bf77b562615626130e4081e4ee9330ec9a99b4985b"
 },
 "nbformat": 3,
 "nbformat_minor": 0,
 "worksheets": [
  {
   "cells": [
    {
     "cell_type": "heading",
     "level": 1,
     "metadata": {},
     "source": [
      "Plotting and Visualization"
     ]
    },
    {
     "cell_type": "code",
     "collapsed": false,
     "input": [
      "from __future__ import division\n",
      "from numpy.random import randn\n",
      "import numpy as np\n",
      "import os\n",
      "import matplotlib.pyplot as plt\n",
      "np.random.seed(12345)\n",
      "plt.rc('figure', figsize=(10, 6))\n",
      "from pandas import Series, DataFrame\n",
      "import pandas as pd\n",
      "np.set_printoptions(precision=4)"
     ],
     "language": "python",
     "metadata": {},
     "outputs": [],
     "prompt_number": 1
    },
    {
     "cell_type": "code",
     "collapsed": false,
     "input": [
      "%matplotlib inline"
     ],
     "language": "python",
     "metadata": {},
     "outputs": [],
     "prompt_number": 2
    },
    {
     "cell_type": "code",
     "collapsed": false,
     "input": [
      "%pwd"
     ],
     "language": "python",
     "metadata": {},
     "outputs": []
    },
    {
     "cell_type": "code",
     "collapsed": false,
     "input": [
      "%cd ../book_scripts/"
     ],
     "language": "python",
     "metadata": {},
     "outputs": []
    },
    {
     "cell_type": "heading",
     "level": 2,
     "metadata": {},
     "source": [
      "A brief matplotlib API primer"
     ]
    },
    {
     "cell_type": "code",
     "collapsed": false,
     "input": [
      "import matplotlib.pyplot as plt"
     ],
     "language": "python",
     "metadata": {},
     "outputs": [],
     "prompt_number": 3
    },
    {
     "cell_type": "heading",
     "level": 3,
     "metadata": {},
     "source": [
      "Figures and Subplots"
     ]
    },
    {
     "cell_type": "code",
     "collapsed": false,
     "input": [
      "fig = plt.figure()"
     ],
     "language": "python",
     "metadata": {},
     "outputs": [
      {
       "metadata": {},
       "output_type": "display_data",
       "text": [
        "<matplotlib.figure.Figure at 0xb9d46a0>"
       ]
      }
     ],
     "prompt_number": 4
    },
    {
     "cell_type": "code",
     "collapsed": false,
     "input": [
      "ax1 = fig.add_subplot(2, 2, 1)"
     ],
     "language": "python",
     "metadata": {},
     "outputs": [],
     "prompt_number": 5
    },
    {
     "cell_type": "code",
     "collapsed": false,
     "input": [
      "ax2 = fig.add_subplot(2, 2, 2)\n",
      "ax3 = fig.add_subplot(2, 2, 3)"
     ],
     "language": "python",
     "metadata": {},
     "outputs": [],
     "prompt_number": 6
    },
    {
     "cell_type": "code",
     "collapsed": false,
     "input": [
      "from numpy.random import randn\n",
      "plt.plot(randn(50).cumsum(), 'k--')"
     ],
     "language": "python",
     "metadata": {},
     "outputs": [
      {
       "metadata": {},
       "output_type": "pyout",
       "prompt_number": 7,
       "text": [
        "[<matplotlib.lines.Line2D at 0xbe0bd68>]"
       ]
      },
      {
       "metadata": {},
       "output_type": "display_data",
       "png": "[encoded data removed]",
       "text": [
        "<matplotlib.figure.Figure at 0xbc823c8>"
       ]
      }
     ],
     "prompt_number": 7
    },
    {
     "cell_type": "code",
     "collapsed": false,
     "input": [
      "_ = ax1.hist(randn(100), bins=20, color='k', alpha=0.3)\n",
      "ax2.scatter(np.arange(30), np.arange(30) + 3 * randn(30))\n",
      "ax3.scatter(np.arange(30), np.arange(30) + 3 * randn(30))"
     ],
     "language": "python",
     "metadata": {},
     "outputs": [
      {
       "metadata": {},
       "output_type": "pyout",
       "prompt_number": 13,
       "text": [
        "<matplotlib.collections.PathCollection at 0xd8c9dd8>"
       ]
      }
     ],
     "prompt_number": 13
    },
    {
     "cell_type": "code",
     "collapsed": false,
     "input": [
      "fig"
     ],
     "language": "python",
     "metadata": {},
     "outputs": [
      {
       "metadata": {},
       "output_type": "pyout",
       "png": "[encoded data removed]",
       "prompt_number": 14,
       "text": [
        "<matplotlib.figure.Figure at 0xb9d46a0>"
       ]
      }
     ],
     "prompt_number": 14
    },
    {
     "cell_type": "code",
     "collapsed": false,
     "input": [
      "plt.close('all')"
     ],
     "language": "python",
     "metadata": {},
     "outputs": [],
     "prompt_number": 15
    },
    {
     "cell_type": "code",
     "collapsed": false,
     "input": [
      "fig, axes = plt.subplots(2, 3)\n",
      "axes"
     ],
     "language": "python",
     "metadata": {},
     "outputs": []
    },
    {
     "cell_type": "heading",
     "level": 4,
     "metadata": {},
     "source": [
      "Adjusting the spacing around subplots"
     ]
    },
    {
     "cell_type": "code",
     "collapsed": false,
     "input": [
      "plt.subplots_adjust(left=None, bottom=None, right=None, top=None,\n",
      "                wspace=None, hspace=None)"
     ],
     "language": "python",
     "metadata": {},
     "outputs": []
    },
    {
     "cell_type": "code",
     "collapsed": false,
     "input": [
      "fig, axes = plt.subplots(2, 2, sharex=True, sharey=True)\n",
      "for i in range(2):\n",
      "    for j in range(2):\n",
      "        axes[i, j].hist(randn(500), bins=50, color='k', alpha=0.5)\n",
      "plt.subplots_adjust(wspace=0, hspace=0)"
     ],
     "language": "python",
     "metadata": {},
     "outputs": []
    },
    {
     "cell_type": "code",
     "collapsed": false,
     "input": [
      "fig, axes = plt.subplots(2, 2, sharex=True, sharey=True)\n",
      "for i in range(2):\n",
      "    for j in range(2):\n",
      "        axes[i, j].hist(randn(500), bins=50, color='k', alpha=0.5)\n",
      "plt.subplots_adjust(wspace=0, hspace=0)"
     ],
     "language": "python",
     "metadata": {},
     "outputs": []
    },
    {
     "cell_type": "heading",
     "level": 3,
     "metadata": {},
     "source": [
      "Colors, markers, and line styles"
     ]
    },
    {
     "cell_type": "code",
     "collapsed": false,
     "input": [
      "plt.figure()"
     ],
     "language": "python",
     "metadata": {},
     "outputs": [
      {
       "metadata": {},
       "output_type": "pyout",
       "prompt_number": 16,
       "text": [
        "<matplotlib.figure.Figure at 0xc138c18>"
       ]
      },
      {
       "metadata": {},
       "output_type": "display_data",
       "text": [
        "<matplotlib.figure.Figure at 0xc138c18>"
       ]
      }
     ],
     "prompt_number": 16
    },
    {
     "cell_type": "code",
     "collapsed": false,
     "input": [
      "plt.plot(randn(30).cumsum(), 'ko--')"
     ],
     "language": "python",
     "metadata": {},
     "outputs": [
      {
       "metadata": {},
       "output_type": "pyout",
       "prompt_number": 17,
       "text": [
        "[<matplotlib.lines.Line2D at 0xd692160>]"
       ]
      },
      {
       "metadata": {},
       "output_type": "display_data",
       "png": "[encoded data removed]",
       "text": [
        "<matplotlib.figure.Figure at 0xd65e320>"
       ]
      }
     ],
     "prompt_number": 17
    },
    {
     "cell_type": "code",
     "collapsed": false,
     "input": [
      "plt.close('all')"
     ],
     "language": "python",
     "metadata": {},
     "outputs": []
    },
    {
     "cell_type": "code",
     "collapsed": false,
     "input": [
      "data = randn(30).cumsum()\n",
      "plt.plot(data, 'k--', label='Default')\n",
      "plt.plot(data, 'k-', drawstyle='steps-post', label='steps-post')\n",
      "plt.legend(loc='best')"
     ],
     "language": "python",
     "metadata": {},
     "outputs": [
      {
       "metadata": {},
       "output_type": "pyout",
       "prompt_number": 18,
       "text": [
        "<matplotlib.legend.Legend at 0xdc56a90>"
       ]
      },
      {
       "metadata": {},
       "output_type": "display_data",
       "png": "[encoded data removed]",
       "text": [
        "<matplotlib.figure.Figure at 0xd80cc50>"
       ]
      }
     ],
     "prompt_number": 18
    },
    {
     "cell_type": "heading",
     "level": 3,
     "metadata": {},
     "source": [
      "Ticks, labels, and legends"
     ]
    },
    {
     "cell_type": "heading",
     "level": 4,
     "metadata": {},
     "source": [
      "Setting the title, axis labels, ticks, and ticklabels"
     ]
    },
    {
     "cell_type": "code",
     "collapsed": false,
     "input": [
      "fig = plt.figure(); ax = fig.add_subplot(1, 1, 1)\n",
      "ax.plot(randn(1000).cumsum())\n",
      "\n",
      "ticks = ax.set_xticks([0, 250, 500, 750, 1000])\n",
      "labels = ax.set_xticklabels(['one', 'two', 'three', 'four', 'five'],\n",
      "                            rotation=30, fontsize='small')\n",
      "ax.set_title('My first matplotlib plot')\n",
      "ax.set_xlabel('Stages')"
     ],
     "language": "python",
     "metadata": {},
     "outputs": [
      {
       "metadata": {},
       "output_type": "pyout",
       "prompt_number": 19,
       "text": [
        "<matplotlib.text.Text at 0xdc65cf8>"
       ]
      },
      {
       "metadata": {},
       "output_type": "display_data",
       "png": "[encoded data removed]",
       "text": [
        "<matplotlib.figure.Figure at 0xdaab6a0>"
       ]
      }
     ],
     "prompt_number": 19
    },
    {
     "cell_type": "heading",
     "level": 4,
     "metadata": {},
     "source": [
      "Adding legends"
     ]
    },
    {
     "cell_type": "code",
     "collapsed": false,
     "input": [
      "fig = plt.figure(); ax = fig.add_subplot(1, 1, 1)\n",
      "ax.plot(randn(1000).cumsum(), 'k.', label='one')\n",
      "ax.plot(randn(1000).cumsum(), 'k-', label='two')\n",
      "ax.plot(randn(1000).cumsum(), 'k.', label='three')\n",
      "\n",
      "ax.legend(loc='best')"
     ],
     "language": "python",
     "metadata": {},
     "outputs": [
      {
       "metadata": {},
       "output_type": "pyout",
       "prompt_number": 31,
       "text": [
        "<matplotlib.legend.Legend at 0xf4f7da0>"
       ]
      },
      {
       "metadata": {},
       "output_type": "display_data",
       "png": "[encoded data removed]",
       "text": [
        "<matplotlib.figure.Figure at 0xe3a4908>"
       ]
      }
     ],
     "prompt_number": 31
    },
    {
     "cell_type": "heading",
     "level": 3,
     "metadata": {},
     "source": [
      "Annotations and drawing on a subplot"
     ]
    },
    {
     "cell_type": "code",
     "collapsed": false,
     "input": [
      "from datetime import datetime\n",
      "\n",
      "fig = plt.figure()\n",
      "ax = fig.add_subplot(1, 1, 1)\n",
      "\n",
      "data = pd.read_csv('ch08/spx.csv', index_col=0, parse_dates=True)\n",
      "spx = data['SPX']\n",
      "\n",
      "spx.plot(ax=ax, style='k-')\n",
      "\n",
      "crisis_data = [\n",
      "    (datetime(2007, 10, 11), 'Peak of bull market'),\n",
      "    (datetime(2008, 3, 12), 'Bear Stearns Fails'),\n",
      "    (datetime(2008, 9, 15), 'Lehman Bankruptcy')\n",
      "]\n",
      "\n",
      "for date, label in crisis_data:\n",
      "    ax.annotate(label, xy=(date, spx.asof(date) + 50),\n",
      "                xytext=(date, spx.asof(date) + 200),\n",
      "                arrowprops=dict(facecolor='black'),\n",
      "                horizontalalignment='left', verticalalignment='top')\n",
      "\n",
      "# Zoom in on 2007-2010\n",
      "ax.set_xlim(['1/1/2007', '1/1/2011'])\n",
      "ax.set_ylim([600, 1800])\n",
      "\n",
      "ax.set_title('Important dates in 2008-2009 financial crisis')"
     ],
     "language": "python",
     "metadata": {},
     "outputs": []
    },
    {
     "cell_type": "code",
     "collapsed": false,
     "input": [
      "fig = plt.figure()\n",
      "ax = fig.add_subplot(1, 1, 1)\n",
      "\n",
      "rect = plt.Rectangle((0.2, 0.75), 0.4, 0.15, color='k', alpha=0.3)\n",
      "circ = plt.Circle((0.7, 0.2), 0.15, color='b', alpha=0.3)\n",
      "pgon = plt.Polygon([[0.15, 0.15], [0.35, 0.4], [0.2, 0.6]],\n",
      "                   color='g', alpha=0.5)\n",
      "\n",
      "ax.add_patch(rect)\n",
      "ax.add_patch(circ)\n",
      "ax.add_patch(pgon)"
     ],
     "language": "python",
     "metadata": {},
     "outputs": []
    },
    {
     "cell_type": "heading",
     "level": 3,
     "metadata": {},
     "source": [
      "Saving plots to file"
     ]
    },
    {
     "cell_type": "code",
     "collapsed": false,
     "input": [
      "fig"
     ],
     "language": "python",
     "metadata": {},
     "outputs": []
    },
    {
     "cell_type": "code",
     "collapsed": false,
     "input": [
      "fig.savefig('figpath.svg')"
     ],
     "language": "python",
     "metadata": {},
     "outputs": []
    },
    {
     "cell_type": "code",
     "collapsed": false,
     "input": [
      "fig.savefig('figpath.png', dpi=400, bbox_inches='tight')"
     ],
     "language": "python",
     "metadata": {},
     "outputs": []
    },
    {
     "cell_type": "code",
     "collapsed": false,
     "input": [
      "from io import BytesIO\n",
      "buffer = BytesIO()\n",
      "plt.savefig(buffer)\n",
      "plot_data = buffer.getvalue()"
     ],
     "language": "python",
     "metadata": {},
     "outputs": []
    },
    {
     "cell_type": "heading",
     "level": 3,
     "metadata": {},
     "source": [
      "matplotlib configuration"
     ]
    },
    {
     "cell_type": "code",
     "collapsed": false,
     "input": [
      "plt.rc('figure', figsize=(10, 10))"
     ],
     "language": "python",
     "metadata": {},
     "outputs": []
    },
    {
     "cell_type": "heading",
     "level": 2,
     "metadata": {},
     "source": [
      "Plotting functions in pandas"
     ]
    },
    {
     "cell_type": "heading",
     "level": 3,
     "metadata": {},
     "source": [
      "Line plots"
     ]
    },
    {
     "cell_type": "code",
     "collapsed": false,
     "input": [
      "plt.close('all')"
     ],
     "language": "python",
     "metadata": {},
     "outputs": [],
     "prompt_number": 32
    },
    {
     "cell_type": "code",
     "collapsed": false,
     "input": [
      "s = Series(np.random.randn(10).cumsum(), index=np.arange(0, 100, 10))\n",
      "s.plot()"
     ],
     "language": "python",
     "metadata": {},
     "outputs": [
      {
       "metadata": {},
       "output_type": "pyout",
       "prompt_number": 33,
       "text": [
        "<matplotlib.axes._subplots.AxesSubplot at 0xf53a550>"
       ]
      },
      {
       "metadata": {},
       "output_type": "display_data",
       "png": "[encoded data removed]",
       "text": [
        "<matplotlib.figure.Figure at 0xebfe588>"
       ]
      }
     ],
     "prompt_number": 33
    },
    {
     "cell_type": "code",
     "collapsed": false,
     "input": [
      "df = DataFrame(np.random.randn(10, 4).cumsum(0),\n",
      "               columns=['A', 'B', 'C', 'D'],\n",
      "               index=np.arange(0, 100, 10))\n",
      "df.plot()"
     ],
     "language": "python",
     "metadata": {},
     "outputs": [
      {
       "metadata": {},
       "output_type": "pyout",
       "prompt_number": 34,
       "text": [
        "<matplotlib.axes._subplots.AxesSubplot at 0x10508710>"
       ]
      },
      {
       "metadata": {},
       "output_type": "display_data",
       "png": "[encoded data removed]",
       "text": [
        "<matplotlib.figure.Figure at 0x106d2c18>"
       ]
      }
     ],
     "prompt_number": 34
    },
    {
     "cell_type": "heading",
     "level": 3,
     "metadata": {},
     "source": [
      "Bar plots"
     ]
    },
    {
     "cell_type": "code",
     "collapsed": false,
     "input": [
      "fig, axes = plt.subplots(2, 1)\n",
      "data = Series(np.random.rand(16), index=list('abcdefghijklmnop'))\n",
      "data.plot(kind='bar', ax=axes[0], color='k', alpha=0.7)\n",
      "data.plot(kind='barh', ax=axes[1], color='k', alpha=0.7)"
     ],
     "language": "python",
     "metadata": {},
     "outputs": [
      {
       "metadata": {},
       "output_type": "pyout",
       "prompt_number": 35,
       "text": [
        "<matplotlib.axes._subplots.AxesSubplot at 0x10bdf128>"
       ]
      },
      {
       "metadata": {},
       "output_type": "display_data",
       "png": "[encoded data removed]",
       "text": [
        "<matplotlib.figure.Figure at 0x109c3780>"
       ]
      }
     ],
     "prompt_number": 35
    },
    {
     "cell_type": "code",
     "collapsed": false,
     "input": [
      "df = DataFrame(np.random.rand(6, 4),\n",
      "               index=['one', 'two', 'three', 'four', 'five', 'six'],\n",
      "               columns=pd.Index(['A', 'B', 'C', 'D'], name='Genus'))\n",
      "df\n",
      "df.plot(kind='bar')"
     ],
     "language": "python",
     "metadata": {},
     "outputs": [
      {
       "metadata": {},
       "output_type": "pyout",
       "prompt_number": 36,
       "text": [
        "<matplotlib.axes._subplots.AxesSubplot at 0x10d03208>"
       ]
      },
      {
       "metadata": {},
       "output_type": "display_data",
       "png": "[encoded data removed]",
       "text": [
        "<matplotlib.figure.Figure at 0xf343240>"
       ]
      }
     ],
     "prompt_number": 36
    },
    {
     "cell_type": "code",
     "collapsed": false,
     "input": [
      "plt.figure()"
     ],
     "language": "python",
     "metadata": {},
     "outputs": []
    },
    {
     "cell_type": "code",
     "collapsed": false,
     "input": [
      "df.plot(kind='barh', stacked=True, alpha=0.5)"
     ],
     "language": "python",
     "metadata": {},
     "outputs": [
      {
       "metadata": {},
       "output_type": "pyout",
       "prompt_number": 37,
       "text": [
        "<matplotlib.axes._subplots.AxesSubplot at 0x10af44a8>"
       ]
      },
      {
       "metadata": {},
       "output_type": "display_data",
       "png": "[encoded data removed]",
       "text": [
        "<matplotlib.figure.Figure at 0x107733c8>"
       ]
      }
     ],
     "prompt_number": 37
    },
    {
     "cell_type": "code",
     "collapsed": false,
     "input": [
      "tips = pd.read_csv('ch08/tips.csv')\n",
      "party_counts = pd.crosstab(tips.day, tips.size)\n",
      "party_counts\n",
      "# Not many 1- and 6-person parties\n",
      "party_counts = party_counts.ix[:, 2:5]"
     ],
     "language": "python",
     "metadata": {},
     "outputs": [],
     "prompt_number": 38
    },
    {
     "cell_type": "code",
     "collapsed": false,
     "input": [
      "# Normalize to sum to 1\n",
      "party_pcts = party_counts.div(party_counts.sum(1).astype(float), axis=0)\n",
      "party_pcts\n",
      "\n",
      "party_pcts.plot(kind='bar', stacked=True)"
     ],
     "language": "python",
     "metadata": {},
     "outputs": [
      {
       "metadata": {},
       "output_type": "pyout",
       "prompt_number": 49,
       "text": [
        "<matplotlib.axes._subplots.AxesSubplot at 0x115d5320>"
       ]
      },
      {
       "metadata": {},
       "output_type": "display_data",
       "png": "[encoded data removed]",
       "text": [
        "<matplotlib.figure.Figure at 0x11100da0>"
       ]
      }
     ],
     "prompt_number": 49
    },
    {
     "cell_type": "code",
     "collapsed": false,
     "input": [
      "party_pcts"
     ],
     "language": "python",
     "metadata": {},
     "outputs": [
      {
       "html": [
        "<div style=\"max-height:1000px;max-width:1500px;overflow:auto;\">\n",
        "<table border=\"1\" class=\"dataframe\">\n",
        "  <thead>\n",
        "    <tr style=\"text-align: right;\">\n",
        "      <th>size</th>\n",
        "      <th>2</th>\n",
        "      <th>3</th>\n",
        "      <th>4</th>\n",
        "      <th>5</th>\n",
        "    </tr>\n",
        "    <tr>\n",
        "      <th>day</th>\n",
        "      <th></th>\n",
        "      <th></th>\n",
        "      <th></th>\n",
        "      <th></th>\n",
        "    </tr>\n",
        "  </thead>\n",
        "  <tbody>\n",
        "    <tr>\n",
        "      <th>Fri</th>\n",
        "      <td> 0.888889</td>\n",
        "      <td> 0.055556</td>\n",
        "      <td> 0.055556</td>\n",
        "      <td> 0.000000</td>\n",
        "    </tr>\n",
        "    <tr>\n",
        "      <th>Sat</th>\n",
        "      <td> 0.623529</td>\n",
        "      <td> 0.211765</td>\n",
        "      <td> 0.152941</td>\n",
        "      <td> 0.011765</td>\n",
        "    </tr>\n",
        "    <tr>\n",
        "      <th>Sun</th>\n",
        "      <td> 0.520000</td>\n",
        "      <td> 0.200000</td>\n",
        "      <td> 0.240000</td>\n",
        "      <td> 0.040000</td>\n",
        "    </tr>\n",
        "    <tr>\n",
        "      <th>Thur</th>\n",
        "      <td> 0.827586</td>\n",
        "      <td> 0.068966</td>\n",
        "      <td> 0.086207</td>\n",
        "      <td> 0.017241</td>\n",
        "    </tr>\n",
        "  </tbody>\n",
        "</table>\n",
        "</div>"
       ],
       "metadata": {},
       "output_type": "pyout",
       "prompt_number": 47,
       "text": [
        "size         2         3         4         5\n",
        "day                                         \n",
        "Fri   0.888889  0.055556  0.055556  0.000000\n",
        "Sat   0.623529  0.211765  0.152941  0.011765\n",
        "Sun   0.520000  0.200000  0.240000  0.040000\n",
        "Thur  0.827586  0.068966  0.086207  0.017241"
       ]
      }
     ],
     "prompt_number": 47
    },
    {
     "cell_type": "code",
     "collapsed": false,
     "input": [
      "tips = pd.read_csv('ch08/tips.csv')"
     ],
     "language": "python",
     "metadata": {},
     "outputs": [],
     "prompt_number": 50
    },
    {
     "cell_type": "code",
     "collapsed": false,
     "input": [
      "party_counts = pd.crosstab(tips.day, tips.size)"
     ],
     "language": "python",
     "metadata": {},
     "outputs": [],
     "prompt_number": 51
    },
    {
     "cell_type": "code",
     "collapsed": false,
     "input": [
      "party_counts"
     ],
     "language": "python",
     "metadata": {},
     "outputs": [
      {
       "html": [
        "<div style=\"max-height:1000px;max-width:1500px;overflow:auto;\">\n",
        "<table border=\"1\" class=\"dataframe\">\n",
        "  <thead>\n",
        "    <tr style=\"text-align: right;\">\n",
        "      <th>size</th>\n",
        "      <th>1</th>\n",
        "      <th>2</th>\n",
        "      <th>3</th>\n",
        "      <th>4</th>\n",
        "      <th>5</th>\n",
        "      <th>6</th>\n",
        "    </tr>\n",
        "    <tr>\n",
        "      <th>day</th>\n",
        "      <th></th>\n",
        "      <th></th>\n",
        "      <th></th>\n",
        "      <th></th>\n",
        "      <th></th>\n",
        "      <th></th>\n",
        "    </tr>\n",
        "  </thead>\n",
        "  <tbody>\n",
        "    <tr>\n",
        "      <th>Fri</th>\n",
        "      <td> 1</td>\n",
        "      <td> 16</td>\n",
        "      <td>  1</td>\n",
        "      <td>  1</td>\n",
        "      <td> 0</td>\n",
        "      <td> 0</td>\n",
        "    </tr>\n",
        "    <tr>\n",
        "      <th>Sat</th>\n",
        "      <td> 2</td>\n",
        "      <td> 53</td>\n",
        "      <td> 18</td>\n",
        "      <td> 13</td>\n",
        "      <td> 1</td>\n",
        "      <td> 0</td>\n",
        "    </tr>\n",
        "    <tr>\n",
        "      <th>Sun</th>\n",
        "      <td> 0</td>\n",
        "      <td> 39</td>\n",
        "      <td> 15</td>\n",
        "      <td> 18</td>\n",
        "      <td> 3</td>\n",
        "      <td> 1</td>\n",
        "    </tr>\n",
        "    <tr>\n",
        "      <th>Thur</th>\n",
        "      <td> 1</td>\n",
        "      <td> 48</td>\n",
        "      <td>  4</td>\n",
        "      <td>  5</td>\n",
        "      <td> 1</td>\n",
        "      <td> 3</td>\n",
        "    </tr>\n",
        "  </tbody>\n",
        "</table>\n",
        "</div>"
       ],
       "metadata": {},
       "output_type": "pyout",
       "prompt_number": 43,
       "text": [
        "size  1   2   3   4  5  6\n",
        "day                      \n",
        "Fri   1  16   1   1  0  0\n",
        "Sat   2  53  18  13  1  0\n",
        "Sun   0  39  15  18  3  1\n",
        "Thur  1  48   4   5  1  3"
       ]
      }
     ],
     "prompt_number": 43
    },
    {
     "cell_type": "code",
     "collapsed": false,
     "input": [
      "party_counts = party_counts.ix[:, 2:5]"
     ],
     "language": "python",
     "metadata": {},
     "outputs": [],
     "prompt_number": 44
    },
    {
     "cell_type": "code",
     "collapsed": false,
     "input": [
      "party_counts"
     ],
     "language": "python",
     "metadata": {},
     "outputs": [
      {
       "html": [
        "<div style=\"max-height:1000px;max-width:1500px;overflow:auto;\">\n",
        "<table border=\"1\" class=\"dataframe\">\n",
        "  <thead>\n",
        "    <tr style=\"text-align: right;\">\n",
        "      <th>size</th>\n",
        "      <th>2</th>\n",
        "      <th>3</th>\n",
        "      <th>4</th>\n",
        "      <th>5</th>\n",
        "    </tr>\n",
        "    <tr>\n",
        "      <th>day</th>\n",
        "      <th></th>\n",
        "      <th></th>\n",
        "      <th></th>\n",
        "      <th></th>\n",
        "    </tr>\n",
        "  </thead>\n",
        "  <tbody>\n",
        "    <tr>\n",
        "      <th>Fri</th>\n",
        "      <td> 16</td>\n",
        "      <td>  1</td>\n",
        "      <td>  1</td>\n",
        "      <td> 0</td>\n",
        "    </tr>\n",
        "    <tr>\n",
        "      <th>Sat</th>\n",
        "      <td> 53</td>\n",
        "      <td> 18</td>\n",
        "      <td> 13</td>\n",
        "      <td> 1</td>\n",
        "    </tr>\n",
        "    <tr>\n",
        "      <th>Sun</th>\n",
        "      <td> 39</td>\n",
        "      <td> 15</td>\n",
        "      <td> 18</td>\n",
        "      <td> 3</td>\n",
        "    </tr>\n",
        "    <tr>\n",
        "      <th>Thur</th>\n",
        "      <td> 48</td>\n",
        "      <td>  4</td>\n",
        "      <td>  5</td>\n",
        "      <td> 1</td>\n",
        "    </tr>\n",
        "  </tbody>\n",
        "</table>\n",
        "</div>"
       ],
       "metadata": {},
       "output_type": "pyout",
       "prompt_number": 45,
       "text": [
        "size   2   3   4  5\n",
        "day                \n",
        "Fri   16   1   1  0\n",
        "Sat   53  18  13  1\n",
        "Sun   39  15  18  3\n",
        "Thur  48   4   5  1"
       ]
      }
     ],
     "prompt_number": 45
    },
    {
     "cell_type": "heading",
     "level": 3,
     "metadata": {},
     "source": [
      "Histograms and density plots"
     ]
    },
    {
     "cell_type": "code",
     "collapsed": false,
     "input": [
      "plt.figure()"
     ],
     "language": "python",
     "metadata": {},
     "outputs": [
      {
       "metadata": {},
       "output_type": "pyout",
       "prompt_number": 52,
       "text": [
        "<matplotlib.figure.Figure at 0x11295978>"
       ]
      },
      {
       "metadata": {},
       "output_type": "display_data",
       "text": [
        "<matplotlib.figure.Figure at 0x11295978>"
       ]
      }
     ],
     "prompt_number": 52
    },
    {
     "cell_type": "code",
     "collapsed": false,
     "input": [
      "tips['tip_pct'] = tips['tip'] / tips['total_bill']\n",
      "tips['tip_pct'].hist(bins=50\n",
      "                     \n",
      "                     \n",
      "                     \n",
      "                     \n",
      "                    )"
     ],
     "language": "python",
     "metadata": {},
     "outputs": [
      {
       "metadata": {},
       "output_type": "pyout",
       "prompt_number": 59,
       "text": [
        "<matplotlib.axes._subplots.AxesSubplot at 0x12e2f908>"
       ]
      },
      {
       "metadata": {},
       "output_type": "display_data",
       "png": "[encoded data removed]",
       "text": [
        "<matplotlib.figure.Figure at 0x13c0f710>"
       ]
      }
     ],
     "prompt_number": 59
    },
    {
     "cell_type": "code",
     "collapsed": false,
     "input": [
      "tips['tip_pct'] = tips['tip'] / tips['total_bill']"
     ],
     "language": "python",
     "metadata": {},
     "outputs": [],
     "prompt_number": 60
    },
    {
     "cell_type": "code",
     "collapsed": false,
     "input": [
      "tips['tip_pct']"
     ],
     "language": "python",
     "metadata": {},
     "outputs": [
      {
       "metadata": {},
       "output_type": "pyout",
       "prompt_number": 61,
       "text": [
        "0     0.059447\n",
        "1     0.160542\n",
        "2     0.166587\n",
        "3     0.139780\n",
        "4     0.146808\n",
        "5     0.186240\n",
        "6     0.228050\n",
        "7     0.116071\n",
        "8     0.130319\n",
        "9     0.218539\n",
        "10    0.166504\n",
        "11    0.141804\n",
        "12    0.101816\n",
        "13    0.162778\n",
        "14    0.203641\n",
        "...\n",
        "229    0.130199\n",
        "230    0.083299\n",
        "231    0.191205\n",
        "232    0.291990\n",
        "233    0.136490\n",
        "234    0.193175\n",
        "235    0.124131\n",
        "236    0.079365\n",
        "237    0.035638\n",
        "238    0.130338\n",
        "239    0.203927\n",
        "240    0.073584\n",
        "241    0.088222\n",
        "242    0.098204\n",
        "243    0.159744\n",
        "Name: tip_pct, Length: 244, dtype: float64"
       ]
      }
     ],
     "prompt_number": 61
    },
    {
     "cell_type": "code",
     "collapsed": false,
     "input": [
      "plt.figure()"
     ],
     "language": "python",
     "metadata": {},
     "outputs": [
      {
       "metadata": {},
       "output_type": "pyout",
       "prompt_number": 63,
       "text": [
        "<matplotlib.figure.Figure at 0x14c68c88>"
       ]
      },
      {
       "metadata": {},
       "output_type": "display_data",
       "text": [
        "<matplotlib.figure.Figure at 0x14c68c88>"
       ]
      }
     ],
     "prompt_number": 63
    },
    {
     "cell_type": "code",
     "collapsed": false,
     "input": [
      "tips['tip_pct'].plot(kind='kde')"
     ],
     "language": "python",
     "metadata": {},
     "outputs": [
      {
       "metadata": {},
       "output_type": "pyout",
       "prompt_number": 62,
       "text": [
        "<matplotlib.axes._subplots.AxesSubplot at 0x14030588>"
       ]
      },
      {
       "metadata": {},
       "output_type": "display_data",
       "png": "[encoded data removed]",
       "text": [
        "<matplotlib.figure.Figure at 0x1404d400>"
       ]
      }
     ],
     "prompt_number": 62
    },
    {
     "cell_type": "code",
     "collapsed": false,
     "input": [
      "plt.figure()"
     ],
     "language": "python",
     "metadata": {},
     "outputs": []
    },
    {
     "cell_type": "code",
     "collapsed": false,
     "input": [
      "comp1 = np.random.normal(0, 1, size=200)  # N(0, 1)\n",
      "comp2 = np.random.normal(10, 2, size=200)  # N(10, 4)\n",
      "values = Series(np.concatenate([comp1, comp2]))\n",
      "values.hist(bins=100, alpha=0.3, color='k', normed=True)\n",
      "values.plot(kind='kde', style='k--')"
     ],
     "language": "python",
     "metadata": {},
     "outputs": [
      {
       "metadata": {},
       "output_type": "pyout",
       "prompt_number": 64,
       "text": [
        "<matplotlib.axes._subplots.AxesSubplot at 0x1404d320>"
       ]
      },
      {
       "metadata": {},
       "output_type": "display_data",
       "png": "[encoded data removed]",
       "text": [
        "<matplotlib.figure.Figure at 0x117e8550>"
       ]
      }
     ],
     "prompt_number": 64
    },
    {
     "cell_type": "heading",
     "level": 3,
     "metadata": {},
     "source": [
      "Scatter plots"
     ]
    },
    {
     "cell_type": "code",
     "collapsed": false,
     "input": [
      "macro = pd.read_csv('ch08/macrodata.csv')"
     ],
     "language": "python",
     "metadata": {},
     "outputs": [],
     "prompt_number": 65
    },
    {
     "cell_type": "code",
     "collapsed": false,
     "input": [
      "data = macro[['cpi', 'm1', 'tbilrate', 'unemp']]"
     ],
     "language": "python",
     "metadata": {},
     "outputs": [],
     "prompt_number": 66
    },
    {
     "cell_type": "code",
     "collapsed": false,
     "input": [
      "\n",
      "trans_data = np.log(data).diff().dropna()\n",
      "trans_data[-5:]"
     ],
     "language": "python",
     "metadata": {},
     "outputs": [
      {
       "html": [
        "<div style=\"max-height:1000px;max-width:1500px;overflow:auto;\">\n",
        "<table border=\"1\" class=\"dataframe\">\n",
        "  <thead>\n",
        "    <tr style=\"text-align: right;\">\n",
        "      <th></th>\n",
        "      <th>cpi</th>\n",
        "      <th>m1</th>\n",
        "      <th>tbilrate</th>\n",
        "      <th>unemp</th>\n",
        "    </tr>\n",
        "  </thead>\n",
        "  <tbody>\n",
        "    <tr>\n",
        "      <th>198</th>\n",
        "      <td>-0.007904</td>\n",
        "      <td> 0.045361</td>\n",
        "      <td>-0.396881</td>\n",
        "      <td> 0.105361</td>\n",
        "    </tr>\n",
        "    <tr>\n",
        "      <th>199</th>\n",
        "      <td>-0.021979</td>\n",
        "      <td> 0.066753</td>\n",
        "      <td>-2.277267</td>\n",
        "      <td> 0.139762</td>\n",
        "    </tr>\n",
        "    <tr>\n",
        "      <th>200</th>\n",
        "      <td> 0.002340</td>\n",
        "      <td> 0.010286</td>\n",
        "      <td> 0.606136</td>\n",
        "      <td> 0.160343</td>\n",
        "    </tr>\n",
        "    <tr>\n",
        "      <th>201</th>\n",
        "      <td> 0.008419</td>\n",
        "      <td> 0.037461</td>\n",
        "      <td>-0.200671</td>\n",
        "      <td> 0.127339</td>\n",
        "    </tr>\n",
        "    <tr>\n",
        "      <th>202</th>\n",
        "      <td> 0.008894</td>\n",
        "      <td> 0.012202</td>\n",
        "      <td>-0.405465</td>\n",
        "      <td> 0.042560</td>\n",
        "    </tr>\n",
        "  </tbody>\n",
        "</table>\n",
        "</div>"
       ],
       "metadata": {},
       "output_type": "pyout",
       "prompt_number": 67,
       "text": [
        "          cpi        m1  tbilrate     unemp\n",
        "198 -0.007904  0.045361 -0.396881  0.105361\n",
        "199 -0.021979  0.066753 -2.277267  0.139762\n",
        "200  0.002340  0.010286  0.606136  0.160343\n",
        "201  0.008419  0.037461 -0.200671  0.127339\n",
        "202  0.008894  0.012202 -0.405465  0.042560"
       ]
      }
     ],
     "prompt_number": 67
    },
    {
     "cell_type": "code",
     "collapsed": false,
     "input": [
      "plt.figure()"
     ],
     "language": "python",
     "metadata": {},
     "outputs": [
      {
       "metadata": {},
       "output_type": "pyout",
       "prompt_number": 68,
       "text": [
        "<matplotlib.figure.Figure at 0x14c61208>"
       ]
      },
      {
       "metadata": {},
       "output_type": "display_data",
       "text": [
        "<matplotlib.figure.Figure at 0x14c61208>"
       ]
      }
     ],
     "prompt_number": 68
    },
    {
     "cell_type": "code",
     "collapsed": false,
     "input": [
      "plt.scatter(trans_data['m1'], trans_data['unemp'])\n",
      "plt.title('Changes in log %s vs. log %s' % ('m1', 'unemp'))"
     ],
     "language": "python",
     "metadata": {},
     "outputs": [
      {
       "metadata": {},
       "output_type": "pyout",
       "prompt_number": 69,
       "text": [
        "<matplotlib.text.Text at 0x150b04a8>"
       ]
      },
      {
       "metadata": {},
       "output_type": "display_data",
       "png": "[encoded data removed]",
       "text": [
        "<matplotlib.figure.Figure at 0x14ee9320>"
       ]
      }
     ],
     "prompt_number": 69
    },
    {
     "cell_type": "code",
     "collapsed": false,
     "input": [
      "pd.scatter_matrix(trans_data, diagonal='kde', color='k', alpha=0.3)"
     ],
     "language": "python",
     "metadata": {},
     "outputs": [
      {
       "metadata": {},
       "output_type": "pyout",
       "prompt_number": 70,
       "text": [
        "array([[<matplotlib.axes._subplots.AxesSubplot object at 0x0000000014E6A6A0>,\n",
        "        <matplotlib.axes._subplots.AxesSubplot object at 0x0000000015281C18>,\n",
        "        <matplotlib.axes._subplots.AxesSubplot object at 0x000000001ED76358>,\n",
        "        <matplotlib.axes._subplots.AxesSubplot object at 0x000000001EDD76D8>],\n",
        "       [<matplotlib.axes._subplots.AxesSubplot object at 0x000000001EEDF278>,\n",
        "        <matplotlib.axes._subplots.AxesSubplot object at 0x000000001EE4AB70>,\n",
        "        <matplotlib.axes._subplots.AxesSubplot object at 0x000000001F04A160>,\n",
        "        <matplotlib.axes._subplots.AxesSubplot object at 0x000000001F145BE0>],\n",
        "       [<matplotlib.axes._subplots.AxesSubplot object at 0x000000001F267E48>,\n",
        "        <matplotlib.axes._subplots.AxesSubplot object at 0x000000001F333630>,\n",
        "        <matplotlib.axes._subplots.AxesSubplot object at 0x000000001F3D9048>,\n",
        "        <matplotlib.axes._subplots.AxesSubplot object at 0x000000001F4CFBA8>],\n",
        "       [<matplotlib.axes._subplots.AxesSubplot object at 0x000000001F568208>,\n",
        "        <matplotlib.axes._subplots.AxesSubplot object at 0x000000001F64BA90>,\n",
        "        <matplotlib.axes._subplots.AxesSubplot object at 0x000000001F7143C8>,\n",
        "        <matplotlib.axes._subplots.AxesSubplot object at 0x000000001F7DA048>]], dtype=object)"
       ]
      },
      {
       "metadata": {},
       "output_type": "display_data",
       "png": "[encoded data removed]",
       "text": [
        "<matplotlib.figure.Figure at 0x14e7e908>"
       ]
      }
     ],
     "prompt_number": 70
    },
    {
     "cell_type": "heading",
     "level": 2,
     "metadata": {},
     "source": [
      "Plotting Maps: Visualizing Haiti Earthquake Crisis data"
     ]
    },
    {
     "cell_type": "code",
     "collapsed": false,
     "input": [
      "data = pd.read_csv('ch08/Haiti.csv')\n",
      "data.info()"
     ],
     "language": "python",
     "metadata": {},
     "outputs": [
      {
       "output_type": "stream",
       "stream": "stdout",
       "text": [
        "<class 'pandas.core.frame.DataFrame'>\n",
        "Int64Index: 3593 entries, 0 to 3592\n",
        "Data columns (total 10 columns):\n",
        "Serial            3593 non-null int64\n",
        "INCIDENT TITLE    3593 non-null object\n",
        "INCIDENT DATE     3593 non-null object\n",
        "LOCATION          3592 non-null object\n",
        "DESCRIPTION       3593 non-null object\n",
        "CATEGORY          3587 non-null object\n",
        "LATITUDE          3593 non-null float64\n",
        "LONGITUDE         3593 non-null float64\n",
        "APPROVED          3593 non-null object\n",
        "VERIFIED          3593 non-null object\n",
        "dtypes: float64(2), int64(1), object(7)"
       ]
      }
     ],
     "prompt_number": 3
    },
    {
     "cell_type": "code",
     "collapsed": false,
     "input": [
      "data[['INCIDENT DATE', 'LATITUDE', 'LONGITUDE']][:10]"
     ],
     "language": "python",
     "metadata": {},
     "outputs": [
      {
       "html": [
        "<div style=\"max-height:1000px;max-width:1500px;overflow:auto;\">\n",
        "<table border=\"1\" class=\"dataframe\">\n",
        "  <thead>\n",
        "    <tr style=\"text-align: right;\">\n",
        "      <th></th>\n",
        "      <th>INCIDENT DATE</th>\n",
        "      <th>LATITUDE</th>\n",
        "      <th>LONGITUDE</th>\n",
        "    </tr>\n",
        "  </thead>\n",
        "  <tbody>\n",
        "    <tr>\n",
        "      <th>0</th>\n",
        "      <td> 05/07/2010 17:26</td>\n",
        "      <td> 18.233333</td>\n",
        "      <td> -72.533333</td>\n",
        "    </tr>\n",
        "    <tr>\n",
        "      <th>1</th>\n",
        "      <td> 28/06/2010 23:06</td>\n",
        "      <td> 50.226029</td>\n",
        "      <td>   5.729886</td>\n",
        "    </tr>\n",
        "    <tr>\n",
        "      <th>2</th>\n",
        "      <td> 24/06/2010 16:21</td>\n",
        "      <td> 22.278381</td>\n",
        "      <td> 114.174287</td>\n",
        "    </tr>\n",
        "    <tr>\n",
        "      <th>3</th>\n",
        "      <td> 20/06/2010 21:59</td>\n",
        "      <td> 44.407062</td>\n",
        "      <td>   8.933989</td>\n",
        "    </tr>\n",
        "    <tr>\n",
        "      <th>4</th>\n",
        "      <td> 18/05/2010 16:26</td>\n",
        "      <td> 18.571084</td>\n",
        "      <td> -72.334671</td>\n",
        "    </tr>\n",
        "    <tr>\n",
        "      <th>5</th>\n",
        "      <td> 26/04/2010 13:14</td>\n",
        "      <td> 18.593707</td>\n",
        "      <td> -72.310079</td>\n",
        "    </tr>\n",
        "    <tr>\n",
        "      <th>6</th>\n",
        "      <td> 26/04/2010 14:19</td>\n",
        "      <td> 18.482800</td>\n",
        "      <td> -73.638800</td>\n",
        "    </tr>\n",
        "    <tr>\n",
        "      <th>7</th>\n",
        "      <td> 26/04/2010 14:27</td>\n",
        "      <td> 18.415000</td>\n",
        "      <td> -73.195000</td>\n",
        "    </tr>\n",
        "    <tr>\n",
        "      <th>8</th>\n",
        "      <td> 15/03/2010 10:58</td>\n",
        "      <td> 18.517443</td>\n",
        "      <td> -72.236841</td>\n",
        "    </tr>\n",
        "    <tr>\n",
        "      <th>9</th>\n",
        "      <td> 15/03/2010 11:00</td>\n",
        "      <td> 18.547790</td>\n",
        "      <td> -72.410010</td>\n",
        "    </tr>\n",
        "  </tbody>\n",
        "</table>\n",
        "</div>"
       ],
       "metadata": {},
       "output_type": "pyout",
       "prompt_number": 4,
       "text": [
        "      INCIDENT DATE   LATITUDE   LONGITUDE\n",
        "0  05/07/2010 17:26  18.233333  -72.533333\n",
        "1  28/06/2010 23:06  50.226029    5.729886\n",
        "2  24/06/2010 16:21  22.278381  114.174287\n",
        "3  20/06/2010 21:59  44.407062    8.933989\n",
        "4  18/05/2010 16:26  18.571084  -72.334671\n",
        "5  26/04/2010 13:14  18.593707  -72.310079\n",
        "6  26/04/2010 14:19  18.482800  -73.638800\n",
        "7  26/04/2010 14:27  18.415000  -73.195000\n",
        "8  15/03/2010 10:58  18.517443  -72.236841\n",
        "9  15/03/2010 11:00  18.547790  -72.410010"
       ]
      }
     ],
     "prompt_number": 4
    },
    {
     "cell_type": "code",
     "collapsed": false,
     "input": [
      "data['CATEGORY'][:6]"
     ],
     "language": "python",
     "metadata": {},
     "outputs": [
      {
       "metadata": {},
       "output_type": "pyout",
       "prompt_number": 5,
       "text": [
        "0          1. Urgences | Emergency, 3. Public Health, \n",
        "1    1. Urgences | Emergency, 2. Urgences logistiqu...\n",
        "2    2. Urgences logistiques | Vital Lines, 8. Autr...\n",
        "3                            1. Urgences | Emergency, \n",
        "4                            1. Urgences | Emergency, \n",
        "5                       5e. Communication lines down, \n",
        "Name: CATEGORY, dtype: object"
       ]
      }
     ],
     "prompt_number": 5
    },
    {
     "cell_type": "code",
     "collapsed": false,
     "input": [
      "data.describe()"
     ],
     "language": "python",
     "metadata": {},
     "outputs": [
      {
       "html": [
        "<div style=\"max-height:1000px;max-width:1500px;overflow:auto;\">\n",
        "<table border=\"1\" class=\"dataframe\">\n",
        "  <thead>\n",
        "    <tr style=\"text-align: right;\">\n",
        "      <th></th>\n",
        "      <th>Serial</th>\n",
        "      <th>LATITUDE</th>\n",
        "      <th>LONGITUDE</th>\n",
        "    </tr>\n",
        "  </thead>\n",
        "  <tbody>\n",
        "    <tr>\n",
        "      <th>count</th>\n",
        "      <td> 3593.000000</td>\n",
        "      <td> 3593.000000</td>\n",
        "      <td> 3593.000000</td>\n",
        "    </tr>\n",
        "    <tr>\n",
        "      <th>mean</th>\n",
        "      <td> 2080.277484</td>\n",
        "      <td>   18.611495</td>\n",
        "      <td>  -72.322680</td>\n",
        "    </tr>\n",
        "    <tr>\n",
        "      <th>std</th>\n",
        "      <td> 1171.100360</td>\n",
        "      <td>    0.738572</td>\n",
        "      <td>    3.650776</td>\n",
        "    </tr>\n",
        "    <tr>\n",
        "      <th>min</th>\n",
        "      <td>    4.000000</td>\n",
        "      <td>   18.041313</td>\n",
        "      <td>  -74.452757</td>\n",
        "    </tr>\n",
        "    <tr>\n",
        "      <th>25%</th>\n",
        "      <td> 1074.000000</td>\n",
        "      <td>   18.524070</td>\n",
        "      <td>  -72.417500</td>\n",
        "    </tr>\n",
        "    <tr>\n",
        "      <th>50%</th>\n",
        "      <td> 2163.000000</td>\n",
        "      <td>   18.539269</td>\n",
        "      <td>  -72.335000</td>\n",
        "    </tr>\n",
        "    <tr>\n",
        "      <th>75%</th>\n",
        "      <td> 3088.000000</td>\n",
        "      <td>   18.561820</td>\n",
        "      <td>  -72.293570</td>\n",
        "    </tr>\n",
        "    <tr>\n",
        "      <th>max</th>\n",
        "      <td> 4052.000000</td>\n",
        "      <td>   50.226029</td>\n",
        "      <td>  114.174287</td>\n",
        "    </tr>\n",
        "  </tbody>\n",
        "</table>\n",
        "</div>"
       ],
       "metadata": {},
       "output_type": "pyout",
       "prompt_number": 6,
       "text": [
        "            Serial     LATITUDE    LONGITUDE\n",
        "count  3593.000000  3593.000000  3593.000000\n",
        "mean   2080.277484    18.611495   -72.322680\n",
        "std    1171.100360     0.738572     3.650776\n",
        "min       4.000000    18.041313   -74.452757\n",
        "25%    1074.000000    18.524070   -72.417500\n",
        "50%    2163.000000    18.539269   -72.335000\n",
        "75%    3088.000000    18.561820   -72.293570\n",
        "max    4052.000000    50.226029   114.174287"
       ]
      }
     ],
     "prompt_number": 6
    },
    {
     "cell_type": "code",
     "collapsed": false,
     "input": [
      "data = data[(data.LATITUDE > 18) & (data.LATITUDE < 20) &\n",
      "            (data.LONGITUDE > -75) & (data.LONGITUDE < -70)\n",
      "            & data.CATEGORY.notnull()]"
     ],
     "language": "python",
     "metadata": {},
     "outputs": [],
     "prompt_number": 7
    },
    {
     "cell_type": "code",
     "collapsed": false,
     "input": [
      "def to_cat_list(catstr):\n",
      "    stripped = (x.strip() for x in catstr.split(','))\n",
      "    return [x for x in stripped if x]\n",
      "\n",
      "def get_all_categories(cat_series):\n",
      "    cat_sets = (set(to_cat_list(x)) for x in cat_series)\n",
      "    return sorted(set.union(*cat_sets))\n",
      "\n",
      "def get_english(cat):\n",
      "    code, names = cat.split('.')\n",
      "    if '|' in names:\n",
      "        names = names.split(' | ')[1]\n",
      "    return code, names.strip()"
     ],
     "language": "python",
     "metadata": {},
     "outputs": [],
     "prompt_number": 8
    },
    {
     "cell_type": "code",
     "collapsed": false,
     "input": [
      "get_english('2. Urgences logistiques | Vital Lines')"
     ],
     "language": "python",
     "metadata": {},
     "outputs": [
      {
       "metadata": {},
       "output_type": "pyout",
       "prompt_number": 9,
       "text": [
        "('2', 'Vital Lines')"
       ]
      }
     ],
     "prompt_number": 9
    },
    {
     "cell_type": "code",
     "collapsed": false,
     "input": [
      "all_cats = get_all_categories(data.CATEGORY)\n",
      "# Generator expression\n",
      "english_mapping = dict(get_english(x) for x in all_cats)\n",
      "english_mapping['2a']\n",
      "english_mapping['6c']"
     ],
     "language": "python",
     "metadata": {},
     "outputs": [
      {
       "metadata": {},
       "output_type": "pyout",
       "prompt_number": 10,
       "text": [
        "'Earthquake and aftershocks'"
       ]
      }
     ],
     "prompt_number": 10
    },
    {
     "cell_type": "code",
     "collapsed": false,
     "input": [
      "all_cats = get_all_categories(data.CATEGORY)"
     ],
     "language": "python",
     "metadata": {},
     "outputs": [],
     "prompt_number": 11
    },
    {
     "cell_type": "code",
     "collapsed": false,
     "input": [
      "english_mapping = dict(get_english(x) for x in all_cats)\n",
      "english_mapping['2a']\n"
     ],
     "language": "python",
     "metadata": {},
     "outputs": [
      {
       "metadata": {},
       "output_type": "pyout",
       "prompt_number": 12,
       "text": [
        "'Food Shortage'"
       ]
      }
     ],
     "prompt_number": 12
    },
    {
     "cell_type": "code",
     "collapsed": false,
     "input": [
      "def get_code(seq):\n",
      "    return [x.split('.')[0] for x in seq if x]\n",
      "\n",
      "all_codes = get_code(all_cats)\n",
      "code_index = pd.Index(np.unique(all_codes))\n",
      "dummy_frame = DataFrame(np.zeros((len(data), len(code_index))),\n",
      "                        index=data.index, columns=code_index)"
     ],
     "language": "python",
     "metadata": {},
     "outputs": [],
     "prompt_number": 13
    },
    {
     "cell_type": "code",
     "collapsed": false,
     "input": [
      "dummy_frame.ix[:, :6].info()"
     ],
     "language": "python",
     "metadata": {},
     "outputs": [
      {
       "output_type": "stream",
       "stream": "stdout",
       "text": [
        "<class 'pandas.core.frame.DataFrame'>\n",
        "Int64Index: 3569 entries, 0 to 3592\n",
        "Data columns (total 6 columns):\n",
        "1     3569 non-null float64\n",
        "1a    3569 non-null float64\n",
        "1b    3569 non-null float64\n",
        "1c    3569 non-null float64\n",
        "1d    3569 non-null float64\n",
        "2     3569 non-null float64\n",
        "dtypes: float64(6)"
       ]
      }
     ],
     "prompt_number": 14
    },
    {
     "cell_type": "code",
     "collapsed": false,
     "input": [
      "for row, cat in zip(data.index, data.CATEGORY):\n",
      "    codes = get_code(to_cat_list(cat))\n",
      "    dummy_frame.ix[row, codes] = 1\n",
      "\n",
      "data = data.join(dummy_frame.add_prefix('category_'))"
     ],
     "language": "python",
     "metadata": {},
     "outputs": [],
     "prompt_number": 15
    },
    {
     "cell_type": "code",
     "collapsed": false,
     "input": [
      "data.ix[:, 10:15].info()"
     ],
     "language": "python",
     "metadata": {},
     "outputs": [
      {
       "output_type": "stream",
       "stream": "stdout",
       "text": [
        "<class 'pandas.core.frame.DataFrame'>\n",
        "Int64Index: 3569 entries, 0 to 3592\n",
        "Data columns (total 5 columns):\n",
        "category_1     3569 non-null float64\n",
        "category_1a    3569 non-null float64\n",
        "category_1b    3569 non-null float64\n",
        "category_1c    3569 non-null float64\n",
        "category_1d    3569 non-null float64\n",
        "dtypes: float64(5)"
       ]
      }
     ],
     "prompt_number": 16
    },
    {
     "cell_type": "code",
     "collapsed": false,
     "input": [
      "from mpl_toolkits.basemap import Basemap\n",
      "import matplotlib.pyplot as plt\n",
      "\n",
      "def basic_haiti_map(ax=None, lllat=17.25, urlat=20.25,\n",
      "                    lllon=-75, urlon=-71):\n",
      "    # create polar stereographic Basemap instance.\n",
      "    m = Basemap(ax=ax, projection='stere',\n",
      "                lon_0=(urlon + lllon) / 2,\n",
      "                lat_0=(urlat + lllat) / 2,\n",
      "                llcrnrlat=lllat, urcrnrlat=urlat,\n",
      "                llcrnrlon=lllon, urcrnrlon=urlon,\n",
      "                resolution='f')\n",
      "    # draw coastlines, state and country boundaries, edge of map.\n",
      "    m.drawcoastlines()\n",
      "    m.drawstates()\n",
      "    m.drawcountries()\n",
      "    return m"
     ],
     "language": "python",
     "metadata": {},
     "outputs": [],
     "prompt_number": 17
    },
    {
     "cell_type": "code",
     "collapsed": false,
     "input": [
      "fig, axes = plt.subplots(nrows=2, ncols=2, figsize=(12, 10))\n",
      "fig.subplots_adjust(hspace=0.05, wspace=0.05)\n",
      "\n",
      "to_plot = ['2a', '1', '3c', '7a']\n",
      "\n",
      "lllat=17.25; urlat=20.25; lllon=-75; urlon=-71\n",
      "\n",
      "for code, ax in zip(to_plot, axes.flat):\n",
      "    m = basic_haiti_map(ax, lllat=lllat, urlat=urlat,\n",
      "                        lllon=lllon, urlon=urlon)\n",
      "\n",
      "    cat_data = data[data['category_%s' % code] == 1]\n",
      "\n",
      "    # compute map proj coordinates.\n",
      "    x, y = m(cat_data.LONGITUDE.values, cat_data.LATITUDE.values)\n",
      "\n",
      "    m.plot(x, y, 'k.', alpha=0.5)\n",
      "    ax.set_title('%s: %s' % (code, english_mapping[code]))"
     ],
     "language": "python",
     "metadata": {},
     "outputs": []
    },
    {
     "cell_type": "code",
     "collapsed": false,
     "input": [
      "fig, axes = plt.subplots(nrows=2, ncols=2, figsize=(12, 10))\n",
      "fig.subplots_adjust(hspace=0.05, wspace=0.05)\n",
      "\n",
      "to_plot = ['2a', '1', '3c', '7a']\n",
      "\n",
      "lllat=17.25; urlat=20.25; lllon=-75; urlon=-71\n",
      "\n",
      "def make_plot():\n",
      "\n",
      "    for i, code in enumerate(to_plot):\n",
      "        cat_data = data[data['category_%s' % code] == 1]\n",
      "        lons, lats = cat_data.LONGITUDE, cat_data.LATITUDE\n",
      "\n",
      "        ax = axes.flat[i]\n",
      "        m = basic_haiti_map(ax, lllat=lllat, urlat=urlat,\n",
      "                            lllon=lllon, urlon=urlon)\n",
      "\n",
      "        # compute map proj coordinates.\n",
      "        x, y = m(lons.values, lats.values)\n",
      "\n",
      "        m.plot(x, y, 'k.', alpha=0.5)\n",
      "        ax.set_title('%s: %s' % (code, english_mapping[code]))\n",
      "        "
     ],
     "language": "python",
     "metadata": {},
     "outputs": []
    },
    {
     "cell_type": "code",
     "collapsed": false,
     "input": [
      "make_plot()"
     ],
     "language": "python",
     "metadata": {},
     "outputs": []
    },
    {
     "cell_type": "code",
     "collapsed": false,
     "input": [
      "shapefile_path = 'ch08/PortAuPrince_Roads/PortAuPrince_Roads'\n",
      "m.readshapefile(shapefile_path, 'roads')"
     ],
     "language": "python",
     "metadata": {},
     "outputs": []
    },
    {
     "cell_type": "code",
     "collapsed": false,
     "input": [],
     "language": "python",
     "metadata": {},
     "outputs": []
    }
   ],
   "metadata": {}
  }
 ]
}
